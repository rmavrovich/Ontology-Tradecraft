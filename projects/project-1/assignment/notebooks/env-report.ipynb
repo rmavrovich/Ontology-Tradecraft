{
 "cells": [
  {
   "cell_type": "code",
   "execution_count": 12,
   "id": "f131daff-a479-4859-ba57-5c25d9594aae",
   "metadata": {},
   "outputs": [
    {
     "name": "stdout",
     "output_type": "stream",
     "text": [
      "3.13.5 | packaged by Anaconda, Inc. | (main, Jun 12 2025, 11:23:37) [Clang 14.0.6 ]\n"
     ]
    }
   ],
   "source": [
    "import sys\n",
    "print(sys.version)\n"
   ]
  },
  {
   "cell_type": "code",
   "execution_count": 13,
   "id": "581cca25-81a2-4a7c-9bbe-80bfd5185825",
   "metadata": {},
   "outputs": [
    {
     "name": "stdout",
     "output_type": "stream",
     "text": [
      "rdflib: 7.1.4\n",
      "SPARQLWrapper: 2.0.0\n",
      "pyshacl: 0.30.1\n"
     ]
    }
   ],
   "source": [
    "import rdflib\n",
    "import SPARQLWrapper\n",
    "import pyshacl\n",
    "\n",
    "print(\"rdflib:\", rdflib.__version__)\n",
    "print(\"SPARQLWrapper:\", SPARQLWrapper.__version__)\n",
    "# pyshacl has __version__ on the package, not module attribute in some versions:\n",
    "try:\n",
    "    import pyshacl\n",
    "    print(\"pyshacl:\", getattr(pyshacl, \"__version__\", \"installed\"))\n",
    "except Exception as e:\n",
    "    print(\"pyshacl import error:\", e)\n",
    "    "
   ]
  },
  {
   "cell_type": "code",
   "execution_count": 15,
   "id": "cceb7987-47af-4d16-af48-60ecf6bd36ed",
   "metadata": {},
   "outputs": [
    {
     "name": "stdout",
     "output_type": "stream",
     "text": [
      "Triple count: 2\n"
     ]
    }
   ],
   "source": [
    "from pathlib import Path\n",
    "import rdflib\n",
    "\n",
    "ttl_path = Path(__file__).resolve().parents[1] / \"notebooks\" / \"sample.ttl\" if \"__file__\" in globals() else Path.cwd() / \"sample.ttl\"\n",
    "if not ttl_path.exists():\n",
    "    # if launched with a different working dir in Jupyter, also try parent\n",
    "    alt = Path.cwd().parent / \"notebooks\" / \"sample.ttl\"\n",
    "    ttl_path = alt if alt.exists() else ttl_path\n",
    "\n",
    "g = rdflib.Graph()\n",
    "g.parse(str(ttl_path), format=\"turtle\")\n",
    "print(\"Triple count:\", len(g))"
   ]
  },
  {
   "cell_type": "code",
   "execution_count": null,
   "id": "9fb1026b-e5ad-41b1-a061-5f0234a8c11a",
   "metadata": {},
   "outputs": [],
   "source": []
  }
 ],
 "metadata": {
  "kernelspec": {
   "display_name": "Python [conda env:base] *",
   "language": "python",
   "name": "conda-base-py"
  },
  "language_info": {
   "codemirror_mode": {
    "name": "ipython",
    "version": 3
   },
   "file_extension": ".py",
   "mimetype": "text/x-python",
   "name": "python",
   "nbconvert_exporter": "python",
   "pygments_lexer": "ipython3",
   "version": "3.13.5"
  }
 },
 "nbformat": 4,
 "nbformat_minor": 5
}
